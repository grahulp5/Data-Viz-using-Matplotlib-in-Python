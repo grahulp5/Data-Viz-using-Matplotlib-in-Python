{
 "cells": [
  {
   "cell_type": "markdown",
   "metadata": {},
   "source": [
    "# Matplotlib and Descriptive Statistics"
   ]
  },
  {
   "cell_type": "markdown",
   "metadata": {},
   "source": [
    "Complete the tasks listed below. You can submit the completed lab until 11:59 PM in the night."
   ]
  },
  {
   "cell_type": "markdown",
   "metadata": {},
   "source": [
    "<u>Requirement:</u><br>\n",
    "Do your best to write Pythonic code instead of the traditional programming code."
   ]
  },
  {
   "cell_type": "markdown",
   "metadata": {},
   "source": [
    "<u>Hint:</u><br>\n",
    "For some of these tasks, you would need to create a Dataframe first using __pd.Dataframe__"
   ]
  },
  {
   "cell_type": "markdown",
   "metadata": {},
   "source": [
    "### Task 1: Matplotlib Scatterplot (4 marks)\n",
    "\n",
    "Import the necessary libraries for numpy, pandas and matplotlib. Then create a Dataframe with the following data.\n",
    "\n",
    "    people = ['Ann','Brandon','Chen','David','Emily','Farook',\n",
    "              'Gagan','Hamish','Imran','Joseph','Katherine','Lily']\n",
    "\n",
    "    age = [21,12,32,45,37,18,28,52,5,40,48,15]\n",
    "\n",
    "    weight = [55,35,77,68,70,60,72,69,18,65,82,48]\n",
    "\n",
    "    height = [160,135,170,165,173,168,175,159,105,171,155,158]\n",
    "    \n",
    "Name the columns of your dataset as __People__, __Age__, __Weight__, and __Height__. Once you have done that, create a scatter plot of __Age__ vs __Weight__. Give your plot the title \"Scatterplot of Age vs Weight\". Also, label the x- and y-axis with the captions \"Age\" and \"Weight\" respectively.\n",
    "\n",
    "Draw the plot both as a static image as well as an interactive plot."
   ]
  },
  {
   "cell_type": "code",
   "execution_count": 1,
   "metadata": {},
   "outputs": [],
   "source": [
    "### Write your code below this comment."
   ]
  },
  {
   "cell_type": "markdown",
   "metadata": {},
   "source": [
    "### Task 2: Binomial distribution and Bar plot (2 marks)\n",
    "\n",
    "Generate random numbers from a Binomial distribution such that there are a total of 10 trials in a coin toss experiment and the probability of success (a head) is 50%. The experiment is repeated a total of 8 times.\n",
    "\n",
    "Once you have done that, go ahead and draw a bar plot in which each bar represents the number of successes you get from an individual experiment. Give your plot the title \"Number of successes in coin toss\". Also, label the x- and y-axis with the captions \"Experiment number\" and \"Number of successes\" respectively. Make sure the drawn figure has a width and height of 7 inch and 4 inch respectively.\n",
    "\n",
    "Draw the plot both as a static image as well as an interactive plot. "
   ]
  },
  {
   "cell_type": "code",
   "execution_count": 2,
   "metadata": {},
   "outputs": [],
   "source": [
    "### Write your code below this comment."
   ]
  },
  {
   "cell_type": "markdown",
   "metadata": {},
   "source": [
    "### Task 3: Normal distribution and Histogram (2 marks)\n",
    "\n",
    "Generate random heights of people from a Normal distribution such that the mean height is 155 cm, the standard deviation of the distribution is 10 and a total of 100 samples are drawn.\n",
    "\n",
    "Once you have done that, go ahead and draw a histogram with the title \"Histogram of teen aged students's height\". Also label the x-axis with the caption \"Height in cm\". Make sure the drawn figure has a width and height of 7 inch and 5 inch respectively.\n",
    "\n",
    "Draw the plot both as a static image as well as an interactive plot."
   ]
  },
  {
   "cell_type": "code",
   "execution_count": 3,
   "metadata": {},
   "outputs": [],
   "source": [
    "### Write your code below this comment."
   ]
  },
  {
   "cell_type": "markdown",
   "metadata": {},
   "source": [
    "### Task 4: Descriptive Statistics from a DataFrame (2 marks)\n",
    "\n",
    "Using the people Dataframe from Task 1, report the average __Age__, the maximum __Height__, the standard deviation for __Weight__, and the 25th percentile as well as the Inter-quartile range (IQR) for __Age__. Also, use a method that can report the descriptive statistics simultaneously for all columns as individual rows."
   ]
  },
  {
   "cell_type": "code",
   "execution_count": 4,
   "metadata": {},
   "outputs": [],
   "source": [
    "### Write your code below this comment."
   ]
  }
 ],
 "metadata": {
  "kernelspec": {
   "display_name": "Python 3",
   "language": "python",
   "name": "python3"
  },
  "language_info": {
   "codemirror_mode": {
    "name": "ipython",
    "version": 3
   },
   "file_extension": ".py",
   "mimetype": "text/x-python",
   "name": "python",
   "nbconvert_exporter": "python",
   "pygments_lexer": "ipython3",
   "version": "3.8.3"
  }
 },
 "nbformat": 4,
 "nbformat_minor": 2
}
